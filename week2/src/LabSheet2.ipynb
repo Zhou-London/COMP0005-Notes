{
 "cells": [
  {
   "cell_type": "code",
   "execution_count": 15,
   "metadata": {},
   "outputs": [
    {
     "name": "stdout",
     "output_type": "stream",
     "text": [
      "28\n"
     ]
    }
   ],
   "source": [
    "class UniquePaths():\n",
    "    def __init__(self):\n",
    "        pass\n",
    "\n",
    "    def dp_solve(self, r, c):\n",
    "        dp = [ [0]*c for _ in range(r) ]\n",
    "\n",
    "        for i in range(r):\n",
    "            dp[i][0] = 1\n",
    "        for j in range(c):\n",
    "            dp[0][j] = 1\n",
    "\n",
    "        for i in range(1,r):\n",
    "            for j in range(1,c):\n",
    "                dp[i][j] = dp[i - 1][j] + dp[i][j-1]\n",
    "\n",
    "        return dp[r-1][c-1]\n",
    "    \n",
    "up = UniquePaths()\n",
    "print(up.dp_solve(3,7))"
   ]
  },
  {
   "cell_type": "code",
   "execution_count": 25,
   "metadata": {},
   "outputs": [
    {
     "name": "stdout",
     "output_type": "stream",
     "text": [
      "0\n"
     ]
    }
   ],
   "source": [
    "class Mcs():\n",
    "    def __init__(self):\n",
    "        pass\n",
    "\n",
    "    def dp_solve(self, floors, cost):\n",
    "        length = floors\n",
    "        if(length != len(cost)):\n",
    "            raise ValueError(\"Non-compatiable length of list\")\n",
    "        dp = [10**9] * length\n",
    "        dp[0] = 0\n",
    "        dp[1] = 0\n",
    "        for i in range(2, length):\n",
    "            cost_1 = dp[i-1] + cost[i-1]\n",
    "            cost_2 = dp[i-2] + cost[i-2]\n",
    "            dp[i] = min(cost_1, cost_2)\n",
    "\n",
    "        return dp[length - 1]\n",
    "    \n",
    "m = Mcs()\n",
    "s = m.dp_solve(4, [0, 100, 0, 100])\n",
    "print(s)\n"
   ]
  },
  {
   "cell_type": "code",
   "execution_count": 47,
   "metadata": {},
   "outputs": [
    {
     "data": {
      "text/plain": [
       "9"
      ]
     },
     "execution_count": 47,
     "metadata": {},
     "output_type": "execute_result"
    }
   ],
   "source": [
    "class Siba():\n",
    "    def __init__(self):\n",
    "        pass\n",
    "\n",
    "    def search(self, arr, index):\n",
    "\n",
    "        if(index < len(arr) - 1):\n",
    "            if arr[index] > arr[index - 1] and arr[index] > arr[index + 1]:\n",
    "                return arr[index]\n",
    "        elif(index == len(arr) - 1):\n",
    "            if(arr[index] > arr[index] - 1):\n",
    "                return arr[index]\n",
    "        else:\n",
    "            pass\n",
    "\n",
    "\n",
    "        if(arr[index] < arr[index + 1]):\n",
    "            index = (index + len(arr)) // 2\n",
    "        else:\n",
    "            index = (index + 1) // 2\n",
    "\n",
    "        return self.search(arr, index)\n",
    "    \n",
    "    def search_(self, arr):\n",
    "\n",
    "        if(len(arr) == 1):\n",
    "            return arr[0]\n",
    "        \n",
    "        return self.search(arr, len(arr) // 2)\n",
    "    \n",
    "s = Siba()\n",
    "s.search_([3,5,8,9,6,4,3,2,1])\n",
    "    \n"
   ]
  },
  {
   "cell_type": "code",
   "execution_count": null,
   "metadata": {},
   "outputs": [],
   "source": []
  }
 ],
 "metadata": {
  "kernelspec": {
   "display_name": "Python 3 (ipykernel)",
   "language": "python",
   "name": "python3"
  },
  "language_info": {
   "codemirror_mode": {
    "name": "ipython",
    "version": 3
   },
   "file_extension": ".py",
   "mimetype": "text/x-python",
   "name": "python",
   "nbconvert_exporter": "python",
   "pygments_lexer": "ipython3",
   "version": "3.13.1"
  }
 },
 "nbformat": 4,
 "nbformat_minor": 2
}
