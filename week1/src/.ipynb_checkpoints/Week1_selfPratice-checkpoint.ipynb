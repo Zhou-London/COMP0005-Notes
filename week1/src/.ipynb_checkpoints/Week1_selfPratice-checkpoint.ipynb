{
 "cells": [
  {
   "cell_type": "code",
   "execution_count": 32,
   "id": "8cf94c15-aacf-4a2b-9e64-c71dab9fa31e",
   "metadata": {},
   "outputs": [],
   "source": [
    "#Written by Zhouzhou Zhang, Jan 15\n",
    "#For jupter Notebook\n",
    "\n",
    "class UnionFind:\n",
    "    def __init__(self, length):\n",
    "        self.length = length\n",
    "        self.list = []\n",
    "        for i in range(self.length):\n",
    "            self.list.append(i)\n",
    "\n",
    "    def find(self, u, v):\n",
    "        return self.list[u] == self.list[v]\n",
    "    \n",
    "    def union(self, u, v):\n",
    "\n",
    "        if(self.find(u,v) \n",
    "           or u not in self.list\n",
    "           or v not in self.list):\n",
    "            return False\n",
    "        \n",
    "        uid = self.list[u]\n",
    "        vid = self.list[v]\n",
    "        for i in range(self.length):\n",
    "            if self.list[i] == uid:\n",
    "                self.list[i] = vid\n",
    "\n",
    "        return True"
   ]
  },
  {
   "cell_type": "code",
   "execution_count": 33,
   "id": "d8eb963e-1226-40c2-9ae7-17b25b8bda37",
   "metadata": {},
   "outputs": [],
   "source": [
    "class request:\n",
    "    def __init__(self, prev, next, t):\n",
    "        self.prev = prev\n",
    "        self.next = next\n",
    "        self.time = t\n",
    "        \n",
    "    def __str__(self):\n",
    "        return(self.prev+\" to \"+ self.next +\" at \" + str(self.time))"
   ]
  },
  {
   "cell_type": "code",
   "execution_count": 45,
   "id": "69cc340d-5843-4aa6-8ce5-3d22f99b7373",
   "metadata": {},
   "outputs": [
    {
     "name": "stdout",
     "output_type": "stream",
     "text": [
      "The latest request is: 4 to 5 at 5\n"
     ]
    }
   ],
   "source": [
    "class SNC:\n",
    "    def __init__(self, N):\n",
    "        self.log = []\n",
    "        self.latest = 1\n",
    "        self.connected = 0\n",
    "        self.network = UnionFind(N)\n",
    "\n",
    "    def connect(self, u, v):\n",
    "        self.network.union(u, v)\n",
    "        self.log.append(request(str(u), str(v), self.latest))\n",
    "        if not self.check():\n",
    "            self.latest += 1\n",
    "\n",
    "    def check(self):\n",
    "        i = 0\n",
    "        while(i < len(self.network.list)):\n",
    "            if(self.network.list[0] != self.network.list[i]):\n",
    "                return False\n",
    "            i += 1\n",
    "\n",
    "        return True\n",
    "\n",
    "    def solve(self):\n",
    "        return self.latest\n",
    "\n",
    "    def __str__(self):\n",
    "        return (\"The latest request is: \" + str(self.log[self.latest - 1]))\n",
    "        \n",
    "snc = SNC(6)\n",
    "snc.connect(0,1)\n",
    "snc.connect(1,2)\n",
    "snc.connect(2,3)\n",
    "snc.connect(3,4)\n",
    "snc.connect(4,5)\n",
    "snc.connect(5,2)\n",
    "snc.connect(5,3)\n",
    "print(snc)"
   ]
  },
  {
   "cell_type": "code",
   "execution_count": null,
   "id": "b057905b-12d2-4d96-81dd-73fbbd9c64fe",
   "metadata": {},
   "outputs": [],
   "source": []
  }
 ],
 "metadata": {
  "kernelspec": {
   "display_name": "Python 3 (ipykernel)",
   "language": "python",
   "name": "python3"
  },
  "language_info": {
   "codemirror_mode": {
    "name": "ipython",
    "version": 3
   },
   "file_extension": ".py",
   "mimetype": "text/x-python",
   "name": "python",
   "nbconvert_exporter": "python",
   "pygments_lexer": "ipython3",
   "version": "3.13.1"
  }
 },
 "nbformat": 4,
 "nbformat_minor": 5
}
