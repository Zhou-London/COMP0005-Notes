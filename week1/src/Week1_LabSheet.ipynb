{
 "cells": [
  {
   "cell_type": "code",
   "execution_count": null,
   "id": "5b5bc3f2-dddc-4b0d-b72c-190e8b833d34",
   "metadata": {},
   "outputs": [],
   "source": [
    "class coinChange:\n",
    "    def __init__(self, ls):\n",
    "        self.coinList = ls\n",
    "        self.coinList.sort()\n",
    "        self.coinList.reverse()\n",
    "\n",
    "    def solve(self, amount):\n",
    "        dp = [float('inf')] * (amount + 1)\n",
    "        dp[0] = 0 \n",
    "    \n",
    "        for i in range(1, amount + 1):\n",
    "            for coin in self.coinList:\n",
    "                if coin <= i:\n",
    "                    dp[i] = min(dp[i], dp[i - coin] + 1)\n",
    "    \n",
    "        return dp[amount] if dp[amount] != float('inf') else -1\n",
    "\n",
    "\n",
    "cc = coinChange([1,4,6])\n",
    "print(cc.solve(10))"
   ]
  },
  {
   "cell_type": "code",
   "execution_count": 11,
   "id": "cb9307b3-98be-4376-a04e-622d147b5cb3",
   "metadata": {},
   "outputs": [
    {
     "name": "stdout",
     "output_type": "stream",
     "text": [
      "3\n"
     ]
    }
   ],
   "source": [
    "class Fibonacci:\n",
    "    def __init__(self):\n",
    "        pass\n",
    "\n",
    "    def rfibonacci(self, n):\n",
    "        if(n == 1):\n",
    "            return 1\n",
    "        elif(n <= 0):\n",
    "            return 0\n",
    "        else:\n",
    "            return self.rfibonacci(n-1) + self.rfibonacci(n-2)\n",
    "\n",
    "    def rget(self, n):\n",
    "        return self.rfibonacci(n-1)\n",
    "\n",
    "    def ifibonacci(self, n):\n",
    "        if n <= 0:\n",
    "            return 0\n",
    "        elif n == 1:\n",
    "            return 1\n",
    "        fib = [0,1]\n",
    "        for i in range(2, n+1):\n",
    "            fib.append(fib[i - 1]+fib[i - 2])\n",
    "        return fib[n]\n",
    "\n",
    "    def iget(self, n):\n",
    "        return self.ifibonacci(n-1)\n",
    "        \n",
    "\n",
    "fb = Fibonacci()\n",
    "print(fb.iget(5))"
   ]
  },
  {
   "cell_type": "code",
   "execution_count": 23,
   "id": "b9b7dd3a-80a3-4264-a619-d7d8ed4098d9",
   "metadata": {},
   "outputs": [
    {
     "name": "stdout",
     "output_type": "stream",
     "text": [
      "False\n"
     ]
    }
   ],
   "source": [
    "class BP:\n",
    "    def __init__(self, str):\n",
    "        self.exp = str\n",
    "\n",
    "    def solve(self):\n",
    "        ls = []\n",
    "        for i in range(len(self.exp)):\n",
    "            if(self.exp[i] == \"(\"):\n",
    "                ls.append(0)\n",
    "            elif(self.exp[i] == \")\"):\n",
    "                if(len(ls) != 0):\n",
    "                    ls.pop()\n",
    "                else:\n",
    "                    return False\n",
    "                    \n",
    "\n",
    "        return (len(ls) == 0)\n",
    "\n",
    "bp = BP(\"((((((dkjajdjaldjlksad))\")\n",
    "print(bp.solve())\n",
    "                \n",
    "        "
   ]
  },
  {
   "cell_type": "code",
   "execution_count": null,
   "id": "35002e36-8a36-47d8-8c58-e633dd760b34",
   "metadata": {},
   "outputs": [],
   "source": []
  }
 ],
 "metadata": {
  "kernelspec": {
   "display_name": "Python 3 (ipykernel)",
   "language": "python",
   "name": "python3"
  },
  "language_info": {
   "codemirror_mode": {
    "name": "ipython",
    "version": 3
   },
   "file_extension": ".py",
   "mimetype": "text/x-python",
   "name": "python",
   "nbconvert_exporter": "python",
   "pygments_lexer": "ipython3",
   "version": "3.13.1"
  }
 },
 "nbformat": 4,
 "nbformat_minor": 5
}
