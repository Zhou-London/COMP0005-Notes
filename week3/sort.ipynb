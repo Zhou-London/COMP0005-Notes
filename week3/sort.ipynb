{
 "cells": [
  {
   "cell_type": "code",
   "execution_count": 22,
   "metadata": {},
   "outputs": [
    {
     "data": {
      "text/plain": [
       "<__main__.Sort at 0x120eb6e40>"
      ]
     },
     "execution_count": 22,
     "metadata": {},
     "output_type": "execute_result"
    }
   ],
   "source": [
    "class Sort():\n",
    "    def __init__(self, arr):\n",
    "        self.list = arr\n",
    "        self.size = len(arr)\n",
    "\n",
    "    def __str__(self):\n",
    "        return str(self.insertion())#Choose algorithm here\n",
    "    \n",
    "    def selection(self):\n",
    "        item = 0\n",
    "        while(item < self.size):\n",
    "            min = 10**9\n",
    "            min_i = -1\n",
    "            for i in range(item, self.size):\n",
    "                if self.list[i] < min:\n",
    "                    min = self.list[i]\n",
    "                    min_i = i\n",
    "            #swap\n",
    "            tmp = self.list[min_i]\n",
    "            self.list[min_i] = self.list[item]\n",
    "            self.list[item] = tmp\n",
    "\n",
    "            item = item + 1\n",
    "\n",
    "        return self.list\n",
    "\n",
    "    def insertion(self):\n",
    "        item = 1\n",
    "        while(item < self.size):\n",
    "            for i in range(item, 0, -1):\n",
    "                if (self.list[i] < self.list[i-1]):\n",
    "                    #swap\n",
    "                    tmp = self.list[i]\n",
    "                    self.list[i] = self.list[i-1]\n",
    "                    self.list[i-1] = tmp\n",
    "\n",
    "            item += 1\n",
    "\n",
    "        return self.list\n",
    "    \n",
    "print(Sort([14,68,79,30,23,85,6]))\n",
    "\n",
    "\n"
   ]
  },
  {
   "cell_type": "code",
   "execution_count": null,
   "metadata": {},
   "outputs": [],
   "source": []
  }
 ],
 "metadata": {
  "kernelspec": {
   "display_name": "Python 3 (ipykernel)",
   "language": "python",
   "name": "python3"
  },
  "language_info": {
   "codemirror_mode": {
    "name": "ipython",
    "version": 3
   },
   "file_extension": ".py",
   "mimetype": "text/x-python",
   "name": "python",
   "nbconvert_exporter": "python",
   "pygments_lexer": "ipython3",
   "version": "3.13.1"
  }
 },
 "nbformat": 4,
 "nbformat_minor": 2
}
