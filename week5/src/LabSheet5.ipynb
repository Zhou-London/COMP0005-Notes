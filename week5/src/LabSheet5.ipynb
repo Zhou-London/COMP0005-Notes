{
 "cells": [
  {
   "cell_type": "code",
   "execution_count": 170,
   "metadata": {},
   "outputs": [],
   "source": [
    "import random"
   ]
  },
  {
   "cell_type": "code",
   "execution_count": 186,
   "metadata": {},
   "outputs": [],
   "source": [
    "class search:\n",
    "    def __init__(self, arr):\n",
    "        self.arr = arr\n",
    "        self.len = len(arr)\n",
    "        self.count = 0\n",
    "\n",
    "    def linearSearch(self, val):\n",
    "\n",
    "        self.count = 0\n",
    "\n",
    "        for i in range(self.len):\n",
    "\n",
    "            self.count += 1\n",
    "\n",
    "            if self.arr[i] == val:\n",
    "                return i\n",
    "        return -1\n",
    "\n",
    "    def binarySearch(self, val):\n",
    "\n",
    "        self.count = 0\n",
    "\n",
    "        i = 0\n",
    "        j = self.len - 1\n",
    "\n",
    "        while(i <= j):\n",
    "\n",
    "            self.count += 1\n",
    "\n",
    "            m = (i + j) // 2\n",
    "            if(self.arr[m] < val):\n",
    "                i = m + 1\n",
    "            elif(self.arr[m] > val):\n",
    "                j = m - 1\n",
    "            else:\n",
    "                return m\n",
    "\n",
    "        return -1\n",
    "    \n",
    "    def trinarySearch(self,val):\n",
    "\n",
    "        self.count = 0\n",
    "\n",
    "        i = 0\n",
    "        j = self.len - 1\n",
    "\n",
    "        while i <= j:\n",
    "\n",
    "            self.count += 1\n",
    "\n",
    "            third = (j - i) // 3\n",
    "            mid1 = i + third\n",
    "            mid2 = j - third\n",
    "\n",
    "            if self.arr[mid1] == val:\n",
    "                return mid1\n",
    "            if self.arr[mid2] == val:\n",
    "                return mid2\n",
    "            \n",
    "            if val < self.arr[mid1]:\n",
    "                j = mid1 - 1\n",
    "            elif val > self.arr[mid2]:\n",
    "                i = mid2 + 1\n",
    "            else:\n",
    "                i = mid1 + 1\n",
    "                j = mid2 - 1\n",
    "\n",
    "        return -1"
   ]
  },
  {
   "cell_type": "code",
   "execution_count": null,
   "metadata": {},
   "outputs": [],
   "source": [
    "class quickSort:\n",
    "    def __init__(self, arr):\n",
    "        self.arr = arr\n",
    "        self.len = len(arr)\n",
    "\n",
    "        self.Sort(0,self.len - 1)\n",
    "\n",
    "    def Sort(self, low, high):\n",
    "        if(low < high):\n",
    "            pivotIndex = self.part(low, high)\n",
    "            self.Sort(low, pivotIndex - 1)\n",
    "            self.Sort(pivotIndex + 1, high)\n",
    "\n",
    "    def part(self, low, high):\n",
    "        pivot = self.arr[high]\n",
    "        i = low - 1\n",
    "        for j in range(low, high):\n",
    "            if(self.arr[j] <= pivot):\n",
    "                i += 1\n",
    "                self.arr[i], self.arr[j] = self.arr[j], self.arr[i]\n",
    "\n",
    "        self.arr[i + 1], self.arr[high] = self.arr[high], self.arr[i+1]\n",
    "\n",
    "        return i + 1"
   ]
  },
  {
   "cell_type": "code",
   "execution_count": 188,
   "metadata": {},
   "outputs": [],
   "source": [
    "class generator:\n",
    "    def getList(n, min, max):\n",
    "        return random.sample(range(min, max + 1), n)\n",
    "        "
   ]
  },
  {
   "cell_type": "code",
   "execution_count": 189,
   "metadata": {},
   "outputs": [],
   "source": [
    "arr = generator.getList(16000,-100000,100000)\n",
    "sorted_arr = quickSort(arr).arr\n"
   ]
  },
  {
   "cell_type": "code",
   "execution_count": 198,
   "metadata": {},
   "outputs": [
    {
     "name": "stdout",
     "output_type": "stream",
     "text": [
      "9000\n",
      "9001\n"
     ]
    }
   ],
   "source": [
    "s = search(sorted_arr)\n",
    "print(s.linearSearch(sorted_arr[9000]))\n",
    "print(s.count)"
   ]
  },
  {
   "cell_type": "code",
   "execution_count": 218,
   "metadata": {},
   "outputs": [
    {
     "name": "stdout",
     "output_type": "stream",
     "text": [
      "2000\n",
      "13\n"
     ]
    }
   ],
   "source": [
    "print(s.binarySearch(sorted_arr[2000]))\n",
    "print(s.count)"
   ]
  },
  {
   "cell_type": "code",
   "execution_count": 219,
   "metadata": {},
   "outputs": [
    {
     "name": "stdout",
     "output_type": "stream",
     "text": [
      "2000\n",
      "9\n"
     ]
    }
   ],
   "source": [
    "print(s.trinarySearch(sorted_arr[2000]))\n",
    "print(s.count)"
   ]
  },
  {
   "cell_type": "code",
   "execution_count": null,
   "metadata": {},
   "outputs": [],
   "source": []
  },
  {
   "cell_type": "code",
   "execution_count": 213,
   "metadata": {},
   "outputs": [
    {
     "name": "stdout",
     "output_type": "stream",
     "text": [
      "-1\n",
      "16000\n"
     ]
    }
   ],
   "source": [
    "print(s.linearSearch(1))\n",
    "print(s.count)"
   ]
  },
  {
   "cell_type": "code",
   "execution_count": 214,
   "metadata": {},
   "outputs": [
    {
     "name": "stdout",
     "output_type": "stream",
     "text": [
      "-1\n",
      "14\n"
     ]
    }
   ],
   "source": [
    "print(s.binarySearch(1))\n",
    "print(s.count)"
   ]
  },
  {
   "cell_type": "code",
   "execution_count": 215,
   "metadata": {},
   "outputs": [
    {
     "name": "stdout",
     "output_type": "stream",
     "text": [
      "-1\n",
      "9\n"
     ]
    }
   ],
   "source": [
    "print(s.trinarySearch(1))\n",
    "print(s.count)"
   ]
  },
  {
   "cell_type": "code",
   "execution_count": null,
   "metadata": {},
   "outputs": [],
   "source": []
  }
 ],
 "metadata": {
  "kernelspec": {
   "display_name": "Python 3 (ipykernel)",
   "language": "python",
   "name": "python3"
  }
 },
 "nbformat": 4,
 "nbformat_minor": 2
}
